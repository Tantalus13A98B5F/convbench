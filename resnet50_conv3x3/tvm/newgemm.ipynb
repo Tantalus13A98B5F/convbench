{
 "cells": [
  {
   "cell_type": "code",
   "execution_count": 1,
   "metadata": {},
   "outputs": [
    {
     "name": "stdout",
     "output_type": "stream",
     "text": [
      "Populating the interactive namespace from numpy and matplotlib\n",
      "Automatic calling is: Smart\n"
     ]
    }
   ],
   "source": [
    "%pylab notebook\n",
    "%autocall\n",
    "import scipy.sparse"
   ]
  },
  {
   "cell_type": "code",
   "execution_count": 2,
   "metadata": {},
   "outputs": [],
   "source": [
    "import tvm\n",
    "from tvm import te, tir\n",
    "# llc --version\n",
    "target = \"llvm -mcpu=znver2\"  # cascadelake\n",
    "ctx = tvm.context(target, 0)\n",
    "vec = 8\n",
    "\n",
    "\n",
    "def idxsplit(idx, dim, *dim2):\n",
    "    if dim2:\n",
    "        idx, *lower = idxsplit(idx, *dim2)\n",
    "    else:\n",
    "        lower = []\n",
    "    return (idx // dim, idx % dim, *lower)\n",
    "\n",
    "\n",
    "class TVMRunner:\n",
    "    def __init__(self, name, params):\n",
    "        self.name = name\n",
    "        self.params = params\n",
    "    \n",
    "    def lower(self):\n",
    "        return tvm.lower(*self.params, simple_mode=True)\n",
    "    \n",
    "    def _wrap_args(self, args):\n",
    "        def _wrap_single(item, item2):\n",
    "            if isinstance(item, np.ndarray):\n",
    "                return tvm.nd.array(item, ctx)\n",
    "            elif isinstance(item, type):\n",
    "                shape = [it.value for it in item2.shape]\n",
    "                return tvm.nd.array(np.zeros(shape, dtype=item), ctx)\n",
    "            else:\n",
    "                raise Exception('unknown arg', item)\n",
    "\n",
    "        _, args2 = self.params\n",
    "        realargs = [_wrap_single(it, it2) for it, it2 in zip(args, args2)]\n",
    "        return realargs\n",
    "    \n",
    "    def __call__(self, *args):\n",
    "        func = tvm.build(*self.params, target=target, name=self.name)\n",
    "        realargs = self._wrap_args(args)\n",
    "        func(*realargs)\n",
    "        return realargs\n",
    "    \n",
    "    def time_eval(self, *args, number=10):\n",
    "        func = tvm.build(*self.params, target=target, name=self.name)\n",
    "        realargs = self._wrap_args(args)\n",
    "        evaluator = func.time_evaluator(func.entry_name, ctx, number=number)\n",
    "        print(evaluator(*realargs).mean)\n",
    "        return realargs"
   ]
  },
  {
   "cell_type": "code",
   "execution_count": 3,
   "metadata": {},
   "outputs": [],
   "source": [
    "weight_oihw = np.random.rand(64, 64, 3, 3).astype('float32')\n",
    "weight_ohwi = np.moveaxis(weight_oihw, 1, -1)\n",
    "weight_ohwi_flat = weight_ohwi.reshape((weight_ohwi.shape[0], -1))\n",
    "nchw_data = np.random.randint(0, 256, (10, 64, 256, 256)).astype('float32')\n",
    "nhwc_data = np.moveaxis(nchw_data, 1, -1)\n",
    "\n",
    "del weight_oihw\n",
    "del weight_ohwi\n",
    "del nchw_data"
   ]
  },
  {
   "cell_type": "code",
   "execution_count": 4,
   "metadata": {},
   "outputs": [],
   "source": [
    "def make_bsr_sparse(dense, sprate, blocksize):\n",
    "    bsrdata = scipy.sparse.bsr_matrix(dense, blocksize=blocksize)\n",
    "    # find partition value\n",
    "    summed = bsrdata.data.sum((1, 2))\n",
    "    idx = int(sprate * len(summed) + 0.5)\n",
    "    val = np.partition(summed, idx)[idx]\n",
    "    # filter the data\n",
    "    data, indices, indptr, bsrWid = [], [], [], bsrdata.indptr[1]\n",
    "    for idx, (block, indval) in enumerate(zip(bsrdata.data, bsrdata.indices)):\n",
    "        if idx % bsrWid == 0:\n",
    "            indptr.append(len(data))\n",
    "        if block.sum() <= val:\n",
    "            data.append(block)\n",
    "            indices.append(indval)\n",
    "    indptr.append(len(data))\n",
    "    # convert format\n",
    "    bsrdata2 = tuple([np.array(i) for i in [data, indices, indptr]])\n",
    "    return scipy.sparse.bsr_matrix(bsrdata2, shape=dense.shape)\n",
    "\n",
    "\n",
    "def unpack_bsr(bsrdata):\n",
    "    return bsrdata.data, bsrdata.indices, bsrdata.indptr"
   ]
  },
  {
   "cell_type": "code",
   "execution_count": 5,
   "metadata": {},
   "outputs": [
    {
     "name": "stdout",
     "output_type": "stream",
     "text": [
      "0.18997756999999998\n"
     ]
    }
   ],
   "source": [
    "def create_nhwc_im2col(data):\n",
    "    N, H, W, C = inshape = data.shape\n",
    "    A = te.placeholder(inshape, name='A')\n",
    "\n",
    "    def im2col_kernel(row, col):\n",
    "        jn, jh, jw = idxsplit(row, H, W)\n",
    "        kh, kw, jc = idxsplit(col, 3, C)\n",
    "        ih, iw = jh + kh - 1, jw + kw - 1\n",
    "        return tir.if_then_else(\n",
    "            tir.all(0 <= ih, ih < H, 0 <= iw, iw < W),\n",
    "            A[jn, ih, iw, jc], 0)\n",
    "\n",
    "    outshape = (N*H*W, 9*C)\n",
    "    B = te.compute(outshape, im2col_kernel, name='B')\n",
    "\n",
    "    def im2col_schedule(CC):\n",
    "        s = te.create_schedule(CC.op)\n",
    "        _, coldim = s[CC].op.axis\n",
    "        _, chandim = s[CC].split(coldim, factor=C)\n",
    "        s[CC].vectorize(chandim)\n",
    "        return s\n",
    "    \n",
    "    s = im2col_schedule(B)\n",
    "    return s, [A, B]\n",
    "\n",
    "\n",
    "tr = TVMRunner('im2col', create_nhwc_im2col(nhwc_data))\n",
    "_, ret = tr.time_eval(nhwc_data, np.float32)\n",
    "nhwkkc_data = ret.asnumpy()\n",
    "kkcnhw_data = nhwkkc_data.T\n",
    "del ret"
   ]
  },
  {
   "cell_type": "markdown",
   "metadata": {},
   "source": [
    "# Dense Trans GEMM"
   ]
  },
  {
   "cell_type": "code",
   "execution_count": 6,
   "metadata": {},
   "outputs": [
    {
     "name": "stdout",
     "output_type": "stream",
     "text": [
      "2.15 s ± 44.7 ms per loop (mean ± std. dev. of 7 runs, 1 loop each)\n",
      "2.16 s ± 53.4 ms per loop (mean ± std. dev. of 7 runs, 1 loop each)\n"
     ]
    }
   ],
   "source": [
    "%timeit nhwkkc_data @ weight_ohwi_flat.T\n",
    "%timeit np.tensordot(nhwkkc_data, weight_ohwi_flat, [[1], [1]])"
   ]
  },
  {
   "cell_type": "code",
   "execution_count": 13,
   "metadata": {},
   "outputs": [
    {
     "name": "stdout",
     "output_type": "stream",
     "text": [
      "0.76986363\n"
     ]
    }
   ],
   "source": [
    "def create_dense_trans_gemm(data, weight):\n",
    "    M, K = data.shape\n",
    "    N, _ = weight.shape\n",
    "    A = te.placeholder((M, K), name='A')\n",
    "    B = te.placeholder((N, K), name='B')\n",
    "    k = te.reduce_axis((0, K // vec), name='k')\n",
    "    CC = te.compute((M, N, vec),\n",
    "                    lambda m, n, z: te.sum(A[m, k*vec + z] * B[n, k*vec + z], axis=k), name='CC')\n",
    "    kk = te.reduce_axis((0, vec), name='kk')\n",
    "    C = te.compute((M, N), lambda m, n: te.sum(CC[m, n, kk], axis=kk), name='C')\n",
    "\n",
    "    def create_dense_schedule(C):\n",
    "        s = te.create_schedule(C.op)\n",
    "        x, y = s[C].op.axis\n",
    "        (kk,) = s[C].op.reduce_axis\n",
    "        xo, yo, xi, yi = s[C].tile(x, y, 16, 8)\n",
    "        s[C].unroll(kk)\n",
    "\n",
    "        (CC,) = s[C].op.input_tensors\n",
    "        s[CC].compute_at(s[C], yo)\n",
    "        x, y, z = s[CC].op.axis\n",
    "        (k,) = s[CC].op.reduce_axis\n",
    "        ko, ki = s[CC].split(k, factor=4)\n",
    "        s[CC].reorder(ko, x, y, ki, z)\n",
    "        s[CC].vectorize(z)\n",
    "        s[CC].unroll(ki)\n",
    "        return s\n",
    "\n",
    "    s = create_dense_schedule(C)\n",
    "    return s, [A, B, C]\n",
    "\n",
    "\n",
    "tr = TVMRunner('dense_trans_gemm', create_dense_trans_gemm(nhwkkc_data, weight_ohwi_flat))\n",
    "tr.time_eval(nhwkkc_data, weight_ohwi_flat, np.float32)\n",
    "None"
   ]
  },
  {
   "cell_type": "markdown",
   "metadata": {},
   "source": [
    "# Sparse NonTrans GEMM"
   ]
  },
  {
   "cell_type": "code",
   "execution_count": 44,
   "metadata": {},
   "outputs": [],
   "source": [
    "bsr_2x1 = make_bsr_sparse(weight_ohwi_flat, 0.25, (1, 1))\n",
    "#%timeit bsr_2x1 * kkcnhw_data"
   ]
  },
  {
   "cell_type": "code",
   "execution_count": 45,
   "metadata": {},
   "outputs": [
    {
     "name": "stdout",
     "output_type": "stream",
     "text": [
      "primfn(Wdat_1: handle, Wind_1: handle, Wptr_1: handle, Data_1: handle, C_1: handle) -> ()\n",
      "  attr = {\"global_symbol\": \"main\", \"tir.noalias\": True}\n",
      "  buffers = {Wptr: Buffer(Wptr_2: Pointer(int32), int32, [65], []),\n",
      "             Data: Buffer(Data_2: Pointer(float32), float32, [576, 655360], []),\n",
      "             C: Buffer(C_2: Pointer(float32), float32, [64, 655360], []),\n",
      "             Wdat: Buffer(Wdat_2: Pointer(float32), float32, [9217, 1, 1], []),\n",
      "             Wind: Buffer(Wind_2: Pointer(int32), int32, [9217], [])}\n",
      "  buffer_map = {Wdat_1: Wdat, Wind_1: Wind, C_1: C, Data_1: Data, Wptr_1: Wptr} {\n",
      "  attr [CC: Pointer(float32)] \"storage_scope\" = \"global\";\n",
      "  allocate(CC, float32, [41943040]) {\n",
      "    for (dcol.outer: int32, 0, 5120) {\n",
      "      for (wrow: int32, 0, 64) {\n",
      "        CC[ramp(((wrow*655360) + (dcol.outer*128)), 1, 128)] = broadcast(0f32, 128)\n",
      "        for (elem_idx: int32, 0, ((int32*)Wptr_2[(wrow + 1)] - (int32*)Wptr_2[wrow])) {\n",
      "          CC[ramp(((wrow*655360) + (dcol.outer*128)), 1, 128)] = ((float32x128*)CC[ramp(((wrow*655360) + (dcol.outer*128)), 1, 128)] + ((float32x128*)Data_2[ramp((((int32*)Wind_2[((int32*)Wptr_2[wrow] + elem_idx)]*655360) + (dcol.outer*128)), 1, 128)]*broadcast((float32*)Wdat_2[((int32*)Wptr_2[wrow] + elem_idx)], 128)))\n",
      "        }\n",
      "      }\n",
      "    }\n",
      "    for (m: int32, 0, 64) {\n",
      "      for (n: int32, 0, 655360) {\n",
      "        C_2[((m*655360) + n)] = 0f32\n",
      "        C_2[((m*655360) + n)] = ((float32*)C_2[((m*655360) + n)] + (float32*)CC[((m*655360) + n)])\n",
      "      }\n",
      "    }\n",
      "  }\n",
      "}\n",
      "\n",
      "\n",
      "0.760515\n"
     ]
    }
   ],
   "source": [
    "def create_nontrans_gemm(bsr, dense):\n",
    "    M, K, _, N, bsrR, bsrC = *bsr.shape, *dense.shape, *bsr.blocksize\n",
    "    bsrdata, bsrindices, bsrindptr = unpack_bsr(bsr)\n",
    "    Wdat = te.placeholder(bsrdata.shape, name='Wdat')\n",
    "    Wind = te.placeholder(bsrindices.shape, dtype='int', name='Wind')\n",
    "    Wptr = te.placeholder(bsrindptr.shape, dtype='int', name='Wptr')\n",
    "    Data = te.placeholder(dense.shape, name='Data')\n",
    "    \n",
    "    def bsr_gemm_kernel(wrow, brow, dcol, bcol):\n",
    "        row_start, row_end = Wptr[wrow], Wptr[wrow+1]\n",
    "        elem_idx = te.reduce_axis((0, row_end - row_start), name='elem_idx')\n",
    "        elem = row_start + elem_idx\n",
    "        return te.sum(Data[Wind[elem]*bsrC + bcol, dcol] * Wdat[elem, brow, bcol], axis=elem_idx)\n",
    "\n",
    "    CC = te.compute((M // bsrR, bsrR, N, bsrC), bsr_gemm_kernel, name='CC')\n",
    "    k = te.reduce_axis((0, bsrC), name='k')\n",
    "    C = te.compute((M, N), lambda m, n: te.sum(CC[m // bsrR, m % bsrR, n, k], axis=k), name='C')\n",
    "    \n",
    "    def create_bsr_gemm_schedule(C, CC):\n",
    "        s = te.create_schedule(C.op)\n",
    "        md, nd = s[C].op.axis\n",
    "        (kd,) = s[C].op.reduce_axis\n",
    "        s[C].unroll(kd)\n",
    "        \n",
    "        md, rd, nd, cd = s[CC].op.axis\n",
    "        (ed,) = s[CC].op.reduce_axis\n",
    "        nd1, nd2 = s[CC].split(nd, factor=16*vec)\n",
    "        s[CC].reorder(nd1, md, ed, rd, nd2, cd)\n",
    "        s[CC].unroll(cd)\n",
    "        s[CC].vectorize(nd2)\n",
    "        s[CC].unroll(rd)\n",
    "        return s\n",
    "    \n",
    "    s = create_bsr_gemm_schedule(C, CC)\n",
    "    return s, [Wdat, Wind, Wptr, Data, C]\n",
    "\n",
    "\n",
    "tr = TVMRunner('bsr_nontrans_gemm', create_nontrans_gemm(bsr_2x1, kkcnhw_data))\n",
    "print(tr.lower())\n",
    "tr.time_eval(*unpack_bsr(bsr_2x1), kkcnhw_data, np.float32)\n",
    "None"
   ]
  },
  {
   "cell_type": "code",
   "execution_count": 37,
   "metadata": {},
   "outputs": [
    {
     "data": {
      "text/plain": [
       "(18433, 1, 1)"
      ]
     },
     "execution_count": 37,
     "metadata": {},
     "output_type": "execute_result"
    }
   ],
   "source": [
    "bsr_2x1.data.shape"
   ]
  },
  {
   "cell_type": "code",
   "execution_count": null,
   "metadata": {},
   "outputs": [],
   "source": []
  }
 ],
 "metadata": {
  "kernelspec": {
   "display_name": "Python 3",
   "language": "python",
   "name": "python3"
  },
  "language_info": {
   "codemirror_mode": {
    "name": "ipython",
    "version": 3
   },
   "file_extension": ".py",
   "mimetype": "text/x-python",
   "name": "python",
   "nbconvert_exporter": "python",
   "pygments_lexer": "ipython3",
   "version": "3.8.5"
  }
 },
 "nbformat": 4,
 "nbformat_minor": 4
}
