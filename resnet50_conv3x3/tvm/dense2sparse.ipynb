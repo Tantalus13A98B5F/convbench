{
 "cells": [
  {
   "cell_type": "code",
   "execution_count": 1,
   "metadata": {},
   "outputs": [],
   "source": [
    "import tvm\n",
    "from tvm import te"
   ]
  },
  {
   "cell_type": "code",
   "execution_count": 2,
   "metadata": {},
   "outputs": [],
   "source": [
    "M, N, K = 100, 100, 64\n",
    "NI, KI = 2, 2\n",
    "NO, KO = N // NI, K // KI\n",
    "NNZ = int(NO * KO * 0.6)"
   ]
  },
  {
   "cell_type": "code",
   "execution_count": 3,
   "metadata": {},
   "outputs": [],
   "source": [
    "LHS = te.placeholder((M, K), name='Data')\n",
    "RHS = te.placeholder((NO, KO, NI, KI), name='Weight')\n",
    "\n",
    "ko = te.reduce_axis((0, KO), name='ko')\n",
    "def dense_kernel(m, no, ni, ki):\n",
    "    return te.sum(LHS[m, ko * KI + ki] * RHS[no, ko, ni, ki], axis=ko)\n",
    "\n",
    "C1 = te.compute((M, NO, NI, KI), dense_kernel, name='C1')\n",
    "ki = te.reduce_axis((0, KI), name='ki')\n",
    "C2 = te.compute((M, N), lambda m, n: te.sum(C1[m, n // NI, n % NI, ki], axis=ki), name='C2')"
   ]
  },
  {
   "cell_type": "code",
   "execution_count": 4,
   "metadata": {},
   "outputs": [
    {
     "name": "stdout",
     "output_type": "stream",
     "text": [
      "primfn(Data_1: handle, Weight_1: handle, C2_1: handle) -> ()\n",
      "  attr = {\"global_symbol\": \"main\", \"tir.noalias\": True}\n",
      "  buffers = {Data: Buffer(Data_2: Pointer(float32), float32, [100, 64], []),\n",
      "             C2: Buffer(C2_2: Pointer(float32), float32, [100, 100], []),\n",
      "             Weight: Buffer(Weight_2: Pointer(float32), float32, [50, 32, 2, 2], [])}\n",
      "  buffer_map = {Data_1: Data, Weight_1: Weight, C2_1: C2} {\n",
      "  attr [C1: Pointer(float32x2)] \"storage_scope\" = \"global\";\n",
      "  allocate(C1, float32x2, [20]);\n",
      "  for (m.outer: int32, 0, 10) {\n",
      "    for (n.outer: int32, 0, 50) {\n",
      "      for (m: int32, 0, 10) {\n",
      "        C1[ramp((m*4), 2, 2)] = broadcast(0f32, 2)\n",
      "        C1[ramp(((m*4) + 1), 2, 2)] = broadcast(0f32, 2)\n",
      "        for (ko: int32, 0, 32) {\n",
      "          C1[ramp((m*4), 2, 2)] = ((float32x2*)C1[ramp((m*4), 2, 2)] + (broadcast((float32*)Data_2[(((m.outer*640) + (m*64)) + (ko*2))], 2)*(float32x2*)Weight_2[ramp(((n.outer*128) + (ko*4)), 2, 2)]))\n",
      "          C1[ramp(((m*4) + 1), 2, 2)] = ((float32x2*)C1[ramp(((m*4) + 1), 2, 2)] + (broadcast((float32*)Data_2[((((m.outer*640) + (m*64)) + (ko*2)) + 1)], 2)*(float32x2*)Weight_2[ramp((((n.outer*128) + (ko*4)) + 1), 2, 2)]))\n",
      "        }\n",
      "      }\n",
      "      for (m.inner: int32, 0, 10) {\n",
      "        C2_2[ramp((((m.outer*1000) + (m.inner*100)) + (n.outer*2)), 1, 2)] = broadcast(0f32, 2)\n",
      "        C2_2[ramp((((m.outer*1000) + (m.inner*100)) + (n.outer*2)), 1, 2)] = ((float32x2*)C2_2[ramp((((m.outer*1000) + (m.inner*100)) + (n.outer*2)), 1, 2)] + (float32x2*)C1[ramp((m.inner*4), 2, 2)])\n",
      "        C2_2[ramp((((m.outer*1000) + (m.inner*100)) + (n.outer*2)), 1, 2)] = ((float32x2*)C2_2[ramp((((m.outer*1000) + (m.inner*100)) + (n.outer*2)), 1, 2)] + (float32x2*)C1[ramp(((m.inner*4) + 1), 2, 2)])\n",
      "      }\n",
      "    }\n",
      "  }\n",
      "}\n",
      "\n",
      "\n"
     ]
    }
   ],
   "source": [
    "s = te.create_schedule(C2.op)\n",
    "\n",
    "m, n = s[C2].op.axis\n",
    "mo, no, mi, ni = s[C2].tile(m, n, 10, NI)\n",
    "ki, = s[C2].op.reduce_axis\n",
    "s[C2].unroll(ki)\n",
    "s[C2].vectorize(ni)\n",
    "#s[C2].unroll(mi)\n",
    "\n",
    "s[C1].compute_at(s[C2], no)\n",
    "m, no, ni, ki = s[C1].op.axis\n",
    "ko, = s[C1].op.reduce_axis\n",
    "s[C1].reorder(m, no, ko, ni, ki)\n",
    "s[C1].unroll(ki)\n",
    "s[C1].vectorize(ni)\n",
    "#s[C1].unroll(m)\n",
    "\n",
    "print(tvm.lower(s, [LHS, RHS, C2], simple_mode=True))\n",
    "func = tvm.build(s, [LHS, RHS, C2])"
   ]
  },
  {
   "cell_type": "code",
   "execution_count": 5,
   "metadata": {},
   "outputs": [],
   "source": [
    "RHS2 = te.placeholder((NNZ, NI, KI), name='Weight2')\n",
    "Indptr = te.placeholder((NO+1,), name='Indptr', dtype='int')\n",
    "Indices = te.placeholder((NNZ,), name='Indices', dtype='int')\n",
    "\n",
    "def bsr_kernel(m, no, ni, ki):\n",
    "    a, b = Indptr[no], Indptr[no + 1]\n",
    "    k = te.reduce_axis((0, b - a), name='k')\n",
    "    return te.sum(LHS[m, Indices[k + a] * KI + ki] * RHS2[k + a, ni, ki], axis=k)\n",
    "\n",
    "C3 = te.compute((M, NO, NI, KI), bsr_kernel, name='C3')\n",
    "ki = te.reduce_axis((0, KI), name='ki')\n",
    "C4 = te.compute((M, N), lambda m, n: te.sum(C3[m, n // NI, n % NI, ki], axis=ki), name='C4')"
   ]
  },
  {
   "cell_type": "code",
   "execution_count": 6,
   "metadata": {},
   "outputs": [],
   "source": [
    "s = te.create_schedule(C4.op)\n",
    "#print(tvm.lower(s, [LHS, RHS2, Indptr, Indices, C4], simple_mode=True))\n",
    "func = tvm.build(s, [LHS, RHS2, Indptr, Indices, C4])"
   ]
  },
  {
   "cell_type": "code",
   "execution_count": 7,
   "metadata": {},
   "outputs": [
    {
     "name": "stdout",
     "output_type": "stream",
     "text": [
      "primfn(A_1: handle, B_1: handle, C_1: handle) -> ()\n",
      "  attr = {\"global_symbol\": \"main\", \"tir.noalias\": True}\n",
      "  buffers = {C: Buffer(C_2: Pointer(float32), float32, [10, 10, 10], []),\n",
      "             A: Buffer(A_2: Pointer(float32), float32, [10, 10], []),\n",
      "             B: Buffer(B_2: Pointer(float32), float32, [10, 10, 10], [])}\n",
      "  buffer_map = {A_1: A, B_1: B, C_1: C} {\n",
      "  for (x: int32, 0, 10) {\n",
      "    for (y: int32, 0, 10) {\n",
      "      for (k: int32, 0, 10) {\n",
      "        B_2[(((x*100) + (y*10)) + k)] = ((float32*)A_2[((x*10) + y)]*cast(float32, k))\n",
      "      }\n",
      "      for (k_1: int32, 0, 10) {\n",
      "        C_2[(((x*100) + (y*10)) + k_1)] = ((float32*)B_2[(((x*100) + (y*10)) + k_1)] + 1f32)\n",
      "      }\n",
      "    }\n",
      "  }\n",
      "}\n",
      "\n",
      "\n"
     ]
    }
   ],
   "source": [
    "A = te.placeholder((10, 10), name='A')\n",
    "B = te.compute((10, 10, 10), lambda x, y, k: A[x, y] * k, name='B')\n",
    "C = te.compute((10, 10, 10), lambda x, y, k: B[x, y, k] + 1, name='C')\n",
    "s = te.create_schedule(C.op)\n",
    "xo, yo = s[C].op.axis[:2]\n",
    "s[B].compute_at(s[C], yo)\n",
    "bx, by, bk = s[B].op.axis\n",
    "s[B].fuse(bx, by)\n",
    "print(tvm.lower(s, [A, B, C], simple_mode=True))"
   ]
  },
  {
   "cell_type": "code",
   "execution_count": null,
   "metadata": {},
   "outputs": [],
   "source": []
  }
 ],
 "metadata": {
  "kernelspec": {
   "display_name": "Python 3",
   "language": "python",
   "name": "python3"
  },
  "language_info": {
   "codemirror_mode": {
    "name": "ipython",
    "version": 3
   },
   "file_extension": ".py",
   "mimetype": "text/x-python",
   "name": "python",
   "nbconvert_exporter": "python",
   "pygments_lexer": "ipython3",
   "version": "3.8.5"
  }
 },
 "nbformat": 4,
 "nbformat_minor": 4
}
